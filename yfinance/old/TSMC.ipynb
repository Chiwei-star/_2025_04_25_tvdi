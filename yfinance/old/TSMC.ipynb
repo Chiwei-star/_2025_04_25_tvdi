{
 "cells": [
  {
   "cell_type": "code",
   "execution_count": 8,
   "id": "c587a5aa",
   "metadata": {},
   "outputs": [
    {
     "name": "stderr",
     "output_type": "stream",
     "text": [
      "[*********************100%***********************]  1 of 1 completed\n"
     ]
    }
   ],
   "source": [
    "import yfinance as yf\n",
    "\n",
    "data = yf.download('2330.TW', start='2019-12-31', end='2025-06-04', interval=\"1d\", group_by='ticker', auto_adjust=True, prepost=False, threads=True, proxy=None)\n",
    "\n",
    "# 將資料存成 CSV 檔案，檔名可自訂\n",
    "data.to_csv('2330TW_5years_data_2.csv')"
   ]
  },
  {
   "cell_type": "code",
   "execution_count": 2,
   "id": "e38f2e3e",
   "metadata": {},
   "outputs": [
    {
     "name": "stdout",
     "output_type": "stream",
     "text": [
      "1.5\n"
     ]
    }
   ],
   "source": [
    "import yellowbrick\n",
    "print(yellowbrick.__version__)"
   ]
  }
 ],
 "metadata": {
  "kernelspec": {
   "display_name": "flask",
   "language": "python",
   "name": "python3"
  },
  "language_info": {
   "codemirror_mode": {
    "name": "ipython",
    "version": 3
   },
   "file_extension": ".py",
   "mimetype": "text/x-python",
   "name": "python",
   "nbconvert_exporter": "python",
   "pygments_lexer": "ipython3",
   "version": "3.10.16"
  }
 },
 "nbformat": 4,
 "nbformat_minor": 5
}
