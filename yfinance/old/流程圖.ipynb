{
 "cells": [
  {
   "cell_type": "markdown",
   "id": "d55aa734",
   "metadata": {},
   "source": [
    "## 參考陳昭明教授資料繪製數據分析流程圖"
   ]
  },
  {
   "cell_type": "code",
   "execution_count": null,
   "id": "7c681f5e",
   "metadata": {},
   "outputs": [
    {
     "ename": "SyntaxError",
     "evalue": "invalid syntax (2335131170.py, line 1)",
     "output_type": "error",
     "traceback": [
      "\u001b[1;36m  Cell \u001b[1;32mIn[1], line 1\u001b[1;36m\u001b[0m\n\u001b[1;33m    graph TD\u001b[0m\n\u001b[1;37m          ^\u001b[0m\n\u001b[1;31mSyntaxError\u001b[0m\u001b[1;31m:\u001b[0m invalid syntax\n"
     ]
    }
   ],
   "source": [
    "graph TD\n",
    "    A[\"<font size=3><b>1. Data (資料)</b></font>\"] --> B[\"<font size=3><b>2. 資料清理 & EDA/資料剖析</b></font>\"];\n",
    "    B --> C[\"<font size=3><b>3. 特徵工程</b></font>\"];\n",
    "    C --> D{\"<font size=3><b>4. 資料分割</b></font>\"};\n",
    "    D -- 訓練資料 --> F[\"<font size=3><b>6. 模型訓練</b></font>\"];\n",
    "    D -- 測試資料 --> G[\"<font size=3><b>8. 模型評分</b></font>\"];\n",
    "    E[\"<font size=3><b>5. 演算法</b></font>\"] --> F;\n",
    "    subgraph \"模型建置\"\n",
    "        E\n",
    "        F\n",
    "    end\n",
    "    F -- 訓練好的模型 --> G;\n",
    "    G --> H[\"<font size=3><b>9. 模型評估</b></font>\"];\n",
    "    H -- 最終模型 --> I[\"<font size=3><b>10. 部署</b></font>\"];\n",
    "    I --> J[\"<font size=3><b>11. 預測</b></font>\"];\n",
    "\n",
    "    %% Styling\n",
    "    style A fill:#f9f,stroke:#333,stroke-width:2px\n",
    "    style J fill:#ccf,stroke:#333,stroke-width:2px"
   ]
  }
 ],
 "metadata": {
  "kernelspec": {
   "display_name": "flask",
   "language": "python",
   "name": "python3"
  },
  "language_info": {
   "codemirror_mode": {
    "name": "ipython",
    "version": 3
   },
   "file_extension": ".py",
   "mimetype": "text/x-python",
   "name": "python",
   "nbconvert_exporter": "python",
   "pygments_lexer": "ipython3",
   "version": "3.10.16"
  }
 },
 "nbformat": 4,
 "nbformat_minor": 5
}
