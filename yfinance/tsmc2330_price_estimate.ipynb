{
 "cells": [
  {
   "cell_type": "markdown",
   "id": "3df0a394",
   "metadata": {
    "id": "3df0a394"
   },
   "source": [
    "### TSMC2330 Stock Price Estimate"
   ]
  },
  {
   "cell_type": "code",
   "execution_count": 1,
   "id": "cvvxOrHzbkxt",
   "metadata": {
    "colab": {
     "base_uri": "https://localhost:8080/"
    },
    "executionInfo": {
     "elapsed": 53754,
     "status": "ok",
     "timestamp": 1749703257813,
     "user": {
      "displayName": "Liu HS",
      "userId": "17830083187347233527"
     },
     "user_tz": -480
    },
    "id": "cvvxOrHzbkxt",
    "outputId": "b002346c-d321-478c-fc2c-8e93bfae2b67"
   },
   "outputs": [
    {
     "name": "stdout",
     "output_type": "stream",
     "text": [
      "Mounted at /content/drive\n"
     ]
    }
   ],
   "source": [
    "from google.colab import drive\n",
    "drive.mount('/content/drive')"
   ]
  },
  {
   "cell_type": "code",
   "execution_count": 1,
   "id": "649ab6b1",
   "metadata": {
    "id": "649ab6b1"
   },
   "outputs": [],
   "source": [
    "\n",
    "\n",
    "import pandas as pd\n",
    "import numpy as np\n",
    "import matplotlib.pyplot as plt\n",
    "import seaborn as sns\n",
    "from ta import add_all_ta_features\n",
    "from sklearn.model_selection import train_test_split\n",
    "from sklearn.tree import DecisionTreeClassifier\n",
    "from sklearn.ensemble import RandomForestClassifier\n",
    "from sklearn.linear_model import LogisticRegression\n",
    "from xgboost import XGBClassifier\n",
    "from sklearn.metrics import classification_report, confusion_matrix, accuracy_score"
   ]
  },
  {
   "cell_type": "markdown",
   "id": "18c2f04b",
   "metadata": {
    "id": "18c2f04b"
   },
   "source": [
    "### 讀取資料"
   ]
  },
  {
   "cell_type": "code",
   "execution_count": null,
   "id": "7c9b8612",
   "metadata": {
    "id": "7c9b8612",
    "outputId": "f234715f-6816-4d6c-ab51-6bb4a60f6e0f"
   },
   "outputs": [
    {
     "data": {
      "text/html": [
       "<div>\n",
       "<style scoped>\n",
       "    .dataframe tbody tr th:only-of-type {\n",
       "        vertical-align: middle;\n",
       "    }\n",
       "\n",
       "    .dataframe tbody tr th {\n",
       "        vertical-align: top;\n",
       "    }\n",
       "\n",
       "    .dataframe thead th {\n",
       "        text-align: right;\n",
       "    }\n",
       "</style>\n",
       "<table border=\"1\" class=\"dataframe\">\n",
       "  <thead>\n",
       "    <tr style=\"text-align: right;\">\n",
       "      <th></th>\n",
       "      <th>Column1</th>\n",
       "      <th>Date</th>\n",
       "      <th>Open</th>\n",
       "      <th>High</th>\n",
       "      <th>Low</th>\n",
       "      <th>Close</th>\n",
       "      <th>Volume</th>\n",
       "      <th>Return</th>\n",
       "      <th>MA5</th>\n",
       "      <th>MA10</th>\n",
       "      <th>MA20</th>\n",
       "      <th>Price_Change</th>\n",
       "      <th>RSI</th>\n",
       "      <th>MACD</th>\n",
       "      <th>MACD_Signal</th>\n",
       "      <th>BB_Upper</th>\n",
       "      <th>BB_Lower</th>\n",
       "      <th>Target</th>\n",
       "    </tr>\n",
       "  </thead>\n",
       "  <tbody>\n",
       "    <tr>\n",
       "      <th>0</th>\n",
       "      <td>19</td>\n",
       "      <td>2020-02-07</td>\n",
       "      <td>298.235036</td>\n",
       "      <td>298.686908</td>\n",
       "      <td>294.620066</td>\n",
       "      <td>296.427551</td>\n",
       "      <td>28798327</td>\n",
       "      <td>-1.35</td>\n",
       "      <td>294.258600</td>\n",
       "      <td>295.071942</td>\n",
       "      <td>299.997342</td>\n",
       "      <td>-1.807485</td>\n",
       "      <td>43.065737</td>\n",
       "      <td>-1.508643</td>\n",
       "      <td>-1.431600</td>\n",
       "      <td>315.071159</td>\n",
       "      <td>284.923525</td>\n",
       "      <td>0</td>\n",
       "    </tr>\n",
       "    <tr>\n",
       "      <th>1</th>\n",
       "      <td>20</td>\n",
       "      <td>2020-02-10</td>\n",
       "      <td>290.553192</td>\n",
       "      <td>296.427518</td>\n",
       "      <td>290.101321</td>\n",
       "      <td>295.975647</td>\n",
       "      <td>30632424</td>\n",
       "      <td>-0.15</td>\n",
       "      <td>296.517938</td>\n",
       "      <td>294.439319</td>\n",
       "      <td>299.477689</td>\n",
       "      <td>5.422455</td>\n",
       "      <td>41.044731</td>\n",
       "      <td>-1.420512</td>\n",
       "      <td>-1.429362</td>\n",
       "      <td>314.341801</td>\n",
       "      <td>284.613577</td>\n",
       "      <td>0</td>\n",
       "    </tr>\n",
       "    <tr>\n",
       "      <th>2</th>\n",
       "      <td>21</td>\n",
       "      <td>2020-02-11</td>\n",
       "      <td>298.686925</td>\n",
       "      <td>300.494410</td>\n",
       "      <td>298.235054</td>\n",
       "      <td>299.590668</td>\n",
       "      <td>27524935</td>\n",
       "      <td>1.22</td>\n",
       "      <td>297.692786</td>\n",
       "      <td>294.303763</td>\n",
       "      <td>299.116191</td>\n",
       "      <td>0.903743</td>\n",
       "      <td>42.753644</td>\n",
       "      <td>-1.092871</td>\n",
       "      <td>-1.361563</td>\n",
       "      <td>313.574510</td>\n",
       "      <td>284.657872</td>\n",
       "      <td>1</td>\n",
       "    </tr>\n",
       "    <tr>\n",
       "      <th>3</th>\n",
       "      <td>22</td>\n",
       "      <td>2020-02-12</td>\n",
       "      <td>301.398109</td>\n",
       "      <td>303.657466</td>\n",
       "      <td>300.946238</td>\n",
       "      <td>302.753723</td>\n",
       "      <td>37612639</td>\n",
       "      <td>1.06</td>\n",
       "      <td>299.048401</td>\n",
       "      <td>294.484512</td>\n",
       "      <td>299.251747</td>\n",
       "      <td>1.355614</td>\n",
       "      <td>41.911724</td>\n",
       "      <td>-0.610923</td>\n",
       "      <td>-1.210544</td>\n",
       "      <td>313.797212</td>\n",
       "      <td>284.706282</td>\n",
       "      <td>1</td>\n",
       "    </tr>\n",
       "    <tr>\n",
       "      <th>4</th>\n",
       "      <td>23</td>\n",
       "      <td>2020-02-13</td>\n",
       "      <td>305.464950</td>\n",
       "      <td>305.464950</td>\n",
       "      <td>302.753723</td>\n",
       "      <td>302.753723</td>\n",
       "      <td>22757021</td>\n",
       "      <td>0.00</td>\n",
       "      <td>299.500262</td>\n",
       "      <td>296.156436</td>\n",
       "      <td>299.500276</td>\n",
       "      <td>-2.711227</td>\n",
       "      <td>45.967695</td>\n",
       "      <td>-0.229394</td>\n",
       "      <td>-1.013383</td>\n",
       "      <td>314.109803</td>\n",
       "      <td>284.890749</td>\n",
       "      <td>0</td>\n",
       "    </tr>\n",
       "  </tbody>\n",
       "</table>\n",
       "</div>"
      ],
      "text/plain": [
       "   Column1       Date        Open        High         Low       Close  \\\n",
       "0       19 2020-02-07  298.235036  298.686908  294.620066  296.427551   \n",
       "1       20 2020-02-10  290.553192  296.427518  290.101321  295.975647   \n",
       "2       21 2020-02-11  298.686925  300.494410  298.235054  299.590668   \n",
       "3       22 2020-02-12  301.398109  303.657466  300.946238  302.753723   \n",
       "4       23 2020-02-13  305.464950  305.464950  302.753723  302.753723   \n",
       "\n",
       "     Volume  Return         MA5        MA10        MA20  Price_Change  \\\n",
       "0  28798327   -1.35  294.258600  295.071942  299.997342     -1.807485   \n",
       "1  30632424   -0.15  296.517938  294.439319  299.477689      5.422455   \n",
       "2  27524935    1.22  297.692786  294.303763  299.116191      0.903743   \n",
       "3  37612639    1.06  299.048401  294.484512  299.251747      1.355614   \n",
       "4  22757021    0.00  299.500262  296.156436  299.500276     -2.711227   \n",
       "\n",
       "         RSI      MACD  MACD_Signal    BB_Upper    BB_Lower  Target  \n",
       "0  43.065737 -1.508643    -1.431600  315.071159  284.923525       0  \n",
       "1  41.044731 -1.420512    -1.429362  314.341801  284.613577       0  \n",
       "2  42.753644 -1.092871    -1.361563  313.574510  284.657872       1  \n",
       "3  41.911724 -0.610923    -1.210544  313.797212  284.706282       1  \n",
       "4  45.967695 -0.229394    -1.013383  314.109803  284.890749       0  "
      ]
     },
     "execution_count": 3,
     "metadata": {},
     "output_type": "execute_result"
    }
   ],
   "source": [
    "# 🔹 讀取資料\n",
    "df = pd.read_csv(\"/content/drive/MyDrive/2025_tvdi_ML/tsmc2330-1.csv\")\n",
    "df[\"Date\"] = pd.to_datetime(df[\"Date\"])\n",
    "df = df.sort_values(\"Date\")\n",
    "\n",
    "# 🔍 查看資料結構\n",
    "df.head()"
   ]
  },
  {
   "cell_type": "markdown",
   "id": "99d56722",
   "metadata": {
    "id": "99d56722"
   },
   "source": [
    "### 特徵工程：加入技術指標 (MA5, MA10, MA20, BSI BB band.), 將漲、跌欄位改為 0(跌), 1(漲)，並放在最後一欄顯示"
   ]
  },
  {
   "cell_type": "code",
   "execution_count": null,
   "id": "920afed2",
   "metadata": {
    "id": "920afed2"
   },
   "outputs": [],
   "source": [
    "#  選擇特徵與目標變數\n",
    "features = df.drop(columns=[\"Column1\", \"Date\", \"Target\", \"Close\"])  # Adj Close 可忽略\n",
    "X = features\n",
    "y = df[\"Target\"]\n",
    "\n",
    "# 📊 分割訓練與測試資料\n",
    "X_train, X_test, y_train, y_test = train_test_split(\n",
    "    X, y, test_size=0.3, shuffle=False\n",
    ")\n"
   ]
  },
  {
   "cell_type": "code",
   "execution_count": null,
   "id": "599dac60",
   "metadata": {
    "id": "599dac60",
    "outputId": "9be1c22f-5959-4f51-e899-e78b15458f6b"
   },
   "outputs": [
    {
     "name": "stdout",
     "output_type": "stream",
     "text": [
      "📘 回歸樹準確率： 1.0\n",
      "              precision    recall  f1-score   support\n",
      "\n",
      "           0       1.00      1.00      1.00       191\n",
      "           1       1.00      1.00      1.00       197\n",
      "\n",
      "    accuracy                           1.00       388\n",
      "   macro avg       1.00      1.00      1.00       388\n",
      "weighted avg       1.00      1.00      1.00       388\n",
      "\n"
     ]
    }
   ],
   "source": [
    "#  回歸樹模型\n",
    "tree_model = DecisionTreeClassifier(max_depth=5, random_state=0)\n",
    "tree_model.fit(X_train, y_train)\n",
    "tree_pred = tree_model.predict(X_test)\n",
    "\n",
    "print(\"📘 回歸樹準確率：\", accuracy_score(y_test, tree_pred))\n",
    "print(classification_report(y_test, tree_pred))"
   ]
  },
  {
   "cell_type": "code",
   "execution_count": 3,
   "id": "86ab086c",
   "metadata": {},
   "outputs": [
    {
     "data": {
      "image/png": "[encoded data removed]",
      "text/plain": [
       "<Figure size 500x400 with 2 Axes>"
      ]
     },
     "metadata": {},
     "output_type": "display_data"
    }
   ],
   "source": [
    "import matplotlib.pyplot as plt\n",
    "import seaborn as sns\n",
    "import numpy as np\n",
    "\n",
    "# 1. 先設定 matplotlib 的中文字型（以 Windows 微軟正黑體為例）\n",
    "plt.rcParams['font.sans-serif'] = ['Microsoft JhengHei']  # 或 'SimHei'，視你系統字型而定\n",
    "plt.rcParams['axes.unicode_minus'] = False  # 讓負號正常顯示\n",
    "\n",
    "# 2. 在設定 seaborn 風格時，再指定字型（必須在 import seaborn 後執行）\n",
    "sns.set_style(\"whitegrid\", {\"font.sans-serif\": ['Microsoft JhengHei', 'Arial']})\n",
    "\n",
    "# 3. 混淆矩陣數據\n",
    "cm = np.array([[158, 30],\n",
    "               [46, 154]])\n",
    "\n",
    "plt.figure(figsize=(5,4))\n",
    "sns.heatmap(cm, annot=True, fmt='d', cmap='Blues',\n",
    "            xticklabels=['預測0', '預測1'], yticklabels=['實際0', '實際1'])\n",
    "plt.xlabel('預測標籤')\n",
    "plt.ylabel('實際標籤')\n",
    "plt.title('混淆矩陣')\n",
    "plt.show()\n"
   ]
  },
  {
   "cell_type": "code",
   "execution_count": null,
   "id": "745d7e06",
   "metadata": {
    "id": "745d7e06",
    "outputId": "5ad30c8e-9d3d-43ad-ebb3-0e420a52136c"
   },
   "outputs": [
    {
     "name": "stdout",
     "output_type": "stream",
     "text": [
      "📗 隨機森林準確率： 1.0\n",
      "              precision    recall  f1-score   support\n",
      "\n",
      "           0       1.00      1.00      1.00       191\n",
      "           1       1.00      1.00      1.00       197\n",
      "\n",
      "    accuracy                           1.00       388\n",
      "   macro avg       1.00      1.00      1.00       388\n",
      "weighted avg       1.00      1.00      1.00       388\n",
      "\n"
     ]
    }
   ],
   "source": [
    "# 🌲 隨機森林模型\n",
    "rf_model = RandomForestClassifier(n_estimators=100, max_depth=5, random_state=0)\n",
    "rf_model.fit(X_train, y_train)\n",
    "rf_pred = rf_model.predict(X_test)\n",
    "\n",
    "print(\"📗 隨機森林準確率：\", accuracy_score(y_test, rf_pred))\n",
    "print(classification_report(y_test, rf_pred))"
   ]
  },
  {
   "cell_type": "code",
   "execution_count": null,
   "id": "76c69466",
   "metadata": {
    "id": "76c69466",
    "outputId": "d6141302-16d3-4331-a476-56039f5927a9"
   },
   "outputs": [
    {
     "name": "stdout",
     "output_type": "stream",
     "text": [
      "📙 邏輯迴歸準確率： 0.7860824742268041\n",
      "              precision    recall  f1-score   support\n",
      "\n",
      "           0       0.80      0.76      0.78       191\n",
      "           1       0.78      0.81      0.79       197\n",
      "\n",
      "    accuracy                           0.79       388\n",
      "   macro avg       0.79      0.79      0.79       388\n",
      "weighted avg       0.79      0.79      0.79       388\n",
      "\n"
     ]
    }
   ],
   "source": [
    "# 📈 邏輯迴歸模型\n",
    "lr_model = LogisticRegression(max_iter=1000)\n",
    "lr_model.fit(X_train, y_train)\n",
    "lr_pred = lr_model.predict(X_test)\n",
    "\n",
    "print(\"📙 邏輯迴歸準確率：\", accuracy_score(y_test, lr_pred))\n",
    "print(classification_report(y_test, lr_pred))"
   ]
  },
  {
   "cell_type": "code",
   "execution_count": 1,
   "id": "a0df683d",
   "metadata": {},
   "outputs": [
    {
     "ename": "ModuleNotFoundError",
     "evalue": "No module named 'seaborn'",
     "output_type": "error",
     "traceback": [
      "\u001b[1;31m---------------------------------------------------------------------------\u001b[0m",
      "\u001b[1;31mModuleNotFoundError\u001b[0m                       Traceback (most recent call last)",
      "Cell \u001b[1;32mIn[1], line 2\u001b[0m\n\u001b[0;32m      1\u001b[0m \u001b[38;5;28;01mimport\u001b[39;00m\u001b[38;5;250m \u001b[39m\u001b[38;5;21;01mmatplotlib\u001b[39;00m\u001b[38;5;21;01m.\u001b[39;00m\u001b[38;5;21;01mpyplot\u001b[39;00m\u001b[38;5;250m \u001b[39m\u001b[38;5;28;01mas\u001b[39;00m\u001b[38;5;250m \u001b[39m\u001b[38;5;21;01mplt\u001b[39;00m\n\u001b[1;32m----> 2\u001b[0m \u001b[38;5;28;01mimport\u001b[39;00m\u001b[38;5;250m \u001b[39m\u001b[38;5;21;01mseaborn\u001b[39;00m\u001b[38;5;250m \u001b[39m\u001b[38;5;28;01mas\u001b[39;00m\u001b[38;5;250m \u001b[39m\u001b[38;5;21;01msns\u001b[39;00m\n\u001b[0;32m      3\u001b[0m \u001b[38;5;28;01mfrom\u001b[39;00m\u001b[38;5;250m \u001b[39m\u001b[38;5;21;01msklearn\u001b[39;00m\u001b[38;5;21;01m.\u001b[39;00m\u001b[38;5;21;01mmetrics\u001b[39;00m\u001b[38;5;250m \u001b[39m\u001b[38;5;28;01mimport\u001b[39;00m ConfusionMatrixDisplay\n\u001b[0;32m      4\u001b[0m \u001b[38;5;28;01mimport\u001b[39;00m\u001b[38;5;250m \u001b[39m\u001b[38;5;21;01mnumpy\u001b[39;00m\u001b[38;5;250m \u001b[39m\u001b[38;5;28;01mas\u001b[39;00m\u001b[38;5;250m \u001b[39m\u001b[38;5;21;01mnp\u001b[39;00m\n",
      "\u001b[1;31mModuleNotFoundError\u001b[0m: No module named 'seaborn'"
     ]
    }
   ],
   "source": [
    "\n",
    "import matplotlib.pyplot as plt\n",
    "import seaborn as sns\n",
    "from sklearn.metrics import ConfusionMatrixDisplay\n",
    "import numpy as np\n",
    "\n",
    "# 混淆矩陣數值\n",
    "cm = np.array([[158, 30],\n",
    "               [46, 154]])\n",
    "\n",
    "plt.figure(figsize=(5,4))\n",
    "sns.heatmap(cm, annot=True, fmt='d', cmap='Blues', xticklabels=['預測0', '預測1'], yticklabels=['實際0', '實際1'])\n",
    "plt.xlabel('預測標籤')\n",
    "plt.ylabel('實際標籤')\n",
    "plt.title('混淆矩陣')\n",
    "plt.show()\n"
   ]
  },
  {
   "cell_type": "code",
   "execution_count": null,
   "id": "21fbe64b",
   "metadata": {
    "id": "21fbe64b",
    "outputId": "c9f32fb6-6b07-4ca4-a83c-17734fb9d171"
   },
   "outputs": [
    {
     "name": "stdout",
     "output_type": "stream",
     "text": [
      "📕 XGBoost 準確率： 1.0\n",
      "              precision    recall  f1-score   support\n",
      "\n",
      "           0       1.00      1.00      1.00       191\n",
      "           1       1.00      1.00      1.00       197\n",
      "\n",
      "    accuracy                           1.00       388\n",
      "   macro avg       1.00      1.00      1.00       388\n",
      "weighted avg       1.00      1.00      1.00       388\n",
      "\n"
     ]
    },
    {
     "name": "stderr",
     "output_type": "stream",
     "text": [
      "d:\\Github\\Python-2025_04_25\\MLOPS\\mlops_env\\Lib\\site-packages\\xgboost\\training.py:183: UserWarning: [05:32:52] WARNING: C:\\actions-runner\\_work\\xgboost\\xgboost\\src\\learner.cc:738: \n",
      "Parameters: { \"use_label_encoder\" } are not used.\n",
      "\n",
      "  bst.update(dtrain, iteration=i, fobj=obj)\n"
     ]
    }
   ],
   "source": [
    "# 💡 XGBoost 模型\n",
    "xgb_model = XGBClassifier(use_label_encoder=False, eval_metric=\"logloss\")\n",
    "xgb_model.fit(X_train, y_train)\n",
    "xgb_pred = xgb_model.predict(X_test)\n",
    "\n",
    "print(\"📕 XGBoost 準確率：\", accuracy_score(y_test, xgb_pred))\n",
    "print(classification_report(y_test, xgb_pred))"
   ]
  },
  {
   "cell_type": "code",
   "execution_count": null,
   "id": "61c328f5",
   "metadata": {
    "id": "61c328f5",
    "outputId": "e0a0e043-2c7f-4023-b92c-0156267acbcc"
   },
   "outputs": [
    {
     "data": {
      "image/png": "[encoded data removed]",
      "text/plain": [
       "<Figure size 1000x600 with 1 Axes>"
      ]
     },
     "metadata": {},
     "output_type": "display_data"
    }
   ],
   "source": [
    "# 📊 特徵重要性分析 (以 XGBoost 為例)\n",
    "xgb_importance = pd.Series(\n",
    "    xgb_model.feature_importances_, index=X.columns\n",
    ").sort_values(ascending=False)\n",
    "\n",
    "plt.figure(figsize=(10, 6))\n",
    "sns.barplot(x=xgb_importance[:20], y=xgb_importance.index[:20])\n",
    "plt.title(\"XGBoost Feature Importance (Top 20)\")\n",
    "plt.xlabel(\"Importance\")\n",
    "plt.show()"
   ]
  },
  {
   "cell_type": "code",
   "execution_count": null,
   "id": "0d9578b6",
   "metadata": {
    "id": "0d9578b6",
    "outputId": "60d0e341-d278-4a20-9fd1-2a09ac4e911e"
   },
   "outputs": [
    {
     "name": "stderr",
     "output_type": "stream",
     "text": [
      "d:\\Github\\Python-2025_04_25\\MLOPS\\mlops_env\\Lib\\site-packages\\xgboost\\training.py:183: UserWarning: [05:41:07] WARNING: C:\\actions-runner\\_work\\xgboost\\xgboost\\src\\learner.cc:738: \n",
      "Parameters: { \"use_label_encoder\" } are not used.\n",
      "\n",
      "  bst.update(dtrain, iteration=i, fobj=obj)\n"
     ]
    },
    {
     "data": {
      "image/png": "[encoded data removed]",
      "text/plain": [
       "<Figure size 640x480 with 1 Axes>"
      ]
     },
     "metadata": {},
     "output_type": "display_data"
    }
   ],
   "source": [
    "import xgboost as xgb\n",
    "import matplotlib.pyplot as plt\n",
    "xgb_model = XGBClassifier(use_label_encoder=False, eval_metric=\"logloss\")\n",
    "xgb_model.fit(X_train, y_train)\n",
    "\n",
    "# 顯示特徵重要性\n",
    "xgb.plot_importance(xgb_model, max_num_features=15, height=0.5)\n",
    "plt.title(\"Feature Importance from XGBoost\")\n",
    "plt.show()"
   ]
  }
 ],
 "metadata": {
  "colab": {
   "provenance": []
  },
  "kernelspec": {
   "display_name": "flask",
   "language": "python",
   "name": "python3"
  },
  "language_info": {
   "codemirror_mode": {
    "name": "ipython",
    "version": 3
   },
   "file_extension": ".py",
   "mimetype": "text/x-python",
   "name": "python",
   "nbconvert_exporter": "python",
   "pygments_lexer": "ipython3",
   "version": "3.10.16"
  }
 },
 "nbformat": 4,
 "nbformat_minor": 5
}
