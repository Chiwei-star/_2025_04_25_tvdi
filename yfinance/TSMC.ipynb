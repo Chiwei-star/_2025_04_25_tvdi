{
 "cells": [
  {
   "cell_type": "code",
   "execution_count": 8,
   "id": "c587a5aa",
   "metadata": {},
   "outputs": [
    {
     "name": "stderr",
     "output_type": "stream",
     "text": [
      "[*********************100%***********************]  1 of 1 completed\n"
     ]
    }
   ],
   "source": [
    "import yfinance as yf\n",
    "\n",
    "data = yf.download('2330.TW', start='2019-12-31', end='2025-06-04', interval=\"1d\", group_by='ticker', auto_adjust=True, prepost=False, threads=True, proxy=None)\n",
    "\n",
    "# 將資料存成 CSV 檔案，檔名可自訂\n",
    "data.to_csv('2330TW_5years_data_2.csv')"
   ]
  },
  {
   "cell_type": "code",
   "execution_count": 5,
   "id": "1032425a",
   "metadata": {},
   "outputs": [
    {
     "name": "stderr",
     "output_type": "stream",
     "text": [
      "[*********************100%***********************]  1 of 1 completed"
     ]
    },
    {
     "name": "stdout",
     "output_type": "stream",
     "text": [
      "YF.download() has changed argument auto_adjust default to True\n"
     ]
    },
    {
     "name": "stderr",
     "output_type": "stream",
     "text": [
      "\n"
     ]
    }
   ],
   "source": [
    "import yfinance as yf\n",
    "\n",
    "data = yf.download('2330.TW', start='2020-01-01', end='2025-06-04')\n",
    "\n",
    "data['漲跌幅'] = data['Close'].pct_change()  # 計算每日漲跌幅（比例）\n",
    "\n",
    "data['漲跌幅%'] = data['漲跌幅'] * 100    # 換算成百分比\n",
    "\n",
    "# 將資料存成 CSV 檔案，檔名可自訂\n",
    "data.to_csv('2330TW_5years_data.csv')"
   ]
  }
 ],
 "metadata": {
  "kernelspec": {
   "display_name": "flask",
   "language": "python",
   "name": "python3"
  },
  "language_info": {
   "codemirror_mode": {
    "name": "ipython",
    "version": 3
   },
   "file_extension": ".py",
   "mimetype": "text/x-python",
   "name": "python",
   "nbconvert_exporter": "python",
   "pygments_lexer": "ipython3",
   "version": "3.10.16"
  }
 },
 "nbformat": 4,
 "nbformat_minor": 5
}
