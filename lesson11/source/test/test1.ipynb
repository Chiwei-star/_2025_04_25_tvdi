{
 "cells": [
  {
   "cell_type": "markdown",
   "id": "ca66a1b7",
   "metadata": {},
   "source": [
    "https://www.perplexity.ai/search/07cff8ec-c383-48bc-b262-a32d006d97ab"
   ]
  }
 ],
 "metadata": {
  "language_info": {
   "name": "python"
  }
 },
 "nbformat": 4,
 "nbformat_minor": 5
}
