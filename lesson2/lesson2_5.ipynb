{
 "cells": [
  {
   "cell_type": "code",
   "execution_count": 7,
   "metadata": {},
   "outputs": [
    {
     "data": {
      "text/plain": [
       "[{'name': 'robert', 'Chinese': 87, 'English': 92, 'Math': 99},\n",
       " {'name': 'Alice', 'Chinese': 97, 'English': 76, 'Math': 79}]"
      ]
     },
     "execution_count": 7,
     "metadata": {},
     "output_type": "execute_result"
    }
   ],
   "source": [
    "students:list = []\n",
    "students.append({\"name\":\"robert\",\n",
    "                 \"Chinese\":87,\n",
    "                 \"English\":92,\n",
    "                 \"Math\":99})\n",
    "students.append({\"name\":\"Alice\",\n",
    "                 \"Chinese\":97,\n",
    "                 \"English\":76,\n",
    "                 \"Math\":79})\n",
    "students"
   ]
  },
  {
   "cell_type": "code",
   "execution_count": 8,
   "metadata": {},
   "outputs": [
    {
     "name": "stdout",
     "output_type": "stream",
     "text": [
      "name:robert\n",
      "Chinese:87\n",
      "English:92\n",
      "Math:99\n",
      "====================\n",
      "name:Alice\n",
      "Chinese:97\n",
      "English:76\n",
      "Math:79\n",
      "====================\n"
     ]
    }
   ],
   "source": [
    "for student in students:\n",
    "    for key,value in student.items():\n",
    "        print(key,value,sep=\":\")\n",
    "    print(\"=\"*20)"
   ]
  }
 ],
 "metadata": {
  "kernelspec": {
   "display_name": ".venv",
   "language": "python",
   "name": "python3"
  },
  "language_info": {
   "codemirror_mode": {
    "name": "ipython",
    "version": 3
   },
   "file_extension": ".py",
   "mimetype": "text/x-python",
   "name": "python",
   "nbconvert_exporter": "python",
   "pygments_lexer": "ipython3",
   "version": "3.13.2"
  }
 },
 "nbformat": 4,
 "nbformat_minor": 2
}
