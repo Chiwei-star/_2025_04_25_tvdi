{
 "cells": [
  {
   "cell_type": "markdown",
   "metadata": {},
   "source": [
    "### 呼叫function"
   ]
  },
  {
   "cell_type": "code",
   "execution_count": 16,
   "metadata": {},
   "outputs": [
    {
     "name": "stdout",
     "output_type": "stream",
     "text": [
      "Hello! Python!\n"
     ]
    }
   ],
   "source": [
    "print(\"Hello! Python!\")"
   ]
  },
  {
   "cell_type": "markdown",
   "metadata": {},
   "source": [
    "建立一個自訂的function\n",
    "變數：menu(function的名稱)\n",
    "參數：wine, entree, dessert (三個引數值)\n",
    "引述值呼叫 >> menu('白酒','牛排','蛋糕')"
   ]
  },
  {
   "cell_type": "code",
   "execution_count": 17,
   "metadata": {},
   "outputs": [],
   "source": [
    "def menu(wine, entree, dessert):\n",
    "    print(\"wine\",wine, \"entree\",entree, \"dessert\", dessert)"
   ]
  },
  {
   "cell_type": "code",
   "execution_count": 18,
   "metadata": {},
   "outputs": [
    {
     "name": "stdout",
     "output_type": "stream",
     "text": [
      "wine 白酒 entree 牛排 dessert 蛋糕\n"
     ]
    }
   ],
   "source": [
    "#引述值得呼叫(依照順序)\n",
    "menu('白酒','牛排','蛋糕')\n",
    "#menu('白酒','牛排') 錯誤"
   ]
  },
  {
   "cell_type": "markdown",
   "metadata": {},
   "source": [
    "type hint 型別提示 (可有可無)\n",
    "三種要件：1.做在變數建立時，2.制定參數，3.制定function時有傳輸值。 "
   ]
  },
  {
   "cell_type": "code",
   "execution_count": 19,
   "metadata": {},
   "outputs": [],
   "source": [
    "def menu(wine:str, entree:str, dessert:str) ->dict:\n",
    "    return {\"wine\":wine,\n",
    "            \"entree\":entree,\n",
    "            \"dessert\":dessert}"
   ]
  },
  {
   "cell_type": "code",
   "execution_count": 20,
   "metadata": {},
   "outputs": [
    {
     "name": "stdout",
     "output_type": "stream",
     "text": [
      "{'wine': '白酒', 'entree': '牛排', 'dessert': '蛋糕'}\n"
     ]
    }
   ],
   "source": [
    "pk:dict = menu(\"白酒\",\"牛排\",\"蛋糕\")\n",
    "print(pk)"
   ]
  },
  {
   "cell_type": "markdown",
   "metadata": {},
   "source": [
    "最後一行，有傳出東西，會自動顯示(輸出)。"
   ]
  },
  {
   "cell_type": "code",
   "execution_count": 24,
   "metadata": {},
   "outputs": [
    {
     "data": {
      "text/plain": [
       "{'wine': '白酒', 'entree': '牛排', 'dessert': '蛋糕'}"
      ]
     },
     "execution_count": 24,
     "metadata": {},
     "output_type": "execute_result"
    }
   ],
   "source": [
    "#引數名稱的呼叫(可以不依照順續)\n",
    "# pk:dict = menu(wine='白酒',entree='牛排',dessert='蛋糕')\n",
    "pk:dict = menu(entree='牛排',wine='白酒',dessert='蛋糕')\n",
    "pk"
   ]
  },
  {
   "cell_type": "code",
   "execution_count": 25,
   "metadata": {},
   "outputs": [
    {
     "data": {
      "text/plain": [
       "{'wine': '白酒', 'entree': '牛排', 'dessert': '蛋糕'}"
      ]
     },
     "execution_count": 25,
     "metadata": {},
     "output_type": "execute_result"
    }
   ],
   "source": [
    "#混合呼叫\n",
    "#前面要引數直呼叫\n",
    "#後面引數名稱呼叫\n",
    "#引數名稱呼叫後，全部都要引數名稱呼叫。\n",
    "\n",
    "pk:dict = menu(\"白酒\",dessert=\"蛋糕\",entree=\"牛排\")\n",
    "pk"
   ]
  },
  {
   "cell_type": "code",
   "execution_count": 27,
   "metadata": {},
   "outputs": [],
   "source": [
    "#參數有default value (一定放在最後面)\n",
    "def menu(wine:str, entree:str, dessert:str='蛋糕') -> dict:\n",
    "    return {\"wine\":wine,\n",
    "            \"entree\":entree,\n",
    "            \"dessert\":dessert}"
   ]
  },
  {
   "cell_type": "code",
   "execution_count": 28,
   "metadata": {},
   "outputs": [
    {
     "data": {
      "text/plain": [
       "{'wine': '白酒', 'entree': '牛排', 'dessert': '蛋糕'}"
      ]
     },
     "execution_count": 28,
     "metadata": {},
     "output_type": "execute_result"
    }
   ],
   "source": [
    "#呼叫時有default value可以省略\n",
    "#引數值呼叫\n",
    "pk:dict = menu(\"白酒\",\"牛排\")\n",
    "pk"
   ]
  },
  {
   "cell_type": "code",
   "execution_count": 29,
   "metadata": {},
   "outputs": [
    {
     "data": {
      "text/plain": [
       "{'wine': '白酒', 'entree': '牛排', 'dessert': '蛋糕'}"
      ]
     },
     "execution_count": 29,
     "metadata": {},
     "output_type": "execute_result"
    }
   ],
   "source": [
    "#引數名稱的呼叫\n",
    "pk:dict = menu(entree='牛排',wine='白酒')\n",
    "pk"
   ]
  },
  {
   "cell_type": "code",
   "execution_count": 30,
   "metadata": {},
   "outputs": [
    {
     "data": {
      "text/plain": [
       "{'wine': '白酒', 'entree': '牛排', 'dessert': '蛋糕'}"
      ]
     },
     "execution_count": 30,
     "metadata": {},
     "output_type": "execute_result"
    }
   ],
   "source": [
    "#混合呼叫\n",
    "pk:dict = menu(\"白酒\",entree=\"牛排\")\n",
    "pk"
   ]
  },
  {
   "cell_type": "code",
   "execution_count": 31,
   "metadata": {},
   "outputs": [
    {
     "data": {
      "text/plain": [
       "{'wine': '白酒', 'entree': '牛排', 'dessert': '奶昔'}"
      ]
     },
     "execution_count": 31,
     "metadata": {},
     "output_type": "execute_result"
    }
   ],
   "source": [
    "pk:dict = menu(\"白酒\",entree=\"牛排\",dessert=\"奶昔\")\n",
    "pk"
   ]
  },
  {
   "cell_type": "code",
   "execution_count": 35,
   "metadata": {},
   "outputs": [
    {
     "name": "stdout",
     "output_type": "stream",
     "text": [
      "1-2-3-4-5-a-b-c.\n"
     ]
    }
   ],
   "source": [
    "# *object 是沒有限制數量的引數值呼叫\n",
    "print(1,2,3,4,5,'a','b','c', sep='-', end='.\\n')"
   ]
  },
  {
   "cell_type": "code",
   "execution_count": 37,
   "metadata": {},
   "outputs": [
    {
     "name": "stdout",
     "output_type": "stream",
     "text": [
      "1-2-3-4-5-a-b-c......\n"
     ]
    }
   ],
   "source": [
    "# default value 引數名稱的呼叫，可以不照順序。\n",
    "print(1,2,3,4,5,'a','b','c', end='......\\n', sep='-')"
   ]
  }
 ],
 "metadata": {
  "kernelspec": {
   "display_name": ".venv",
   "language": "python",
   "name": "python3"
  },
  "language_info": {
   "codemirror_mode": {
    "name": "ipython",
    "version": 3
   },
   "file_extension": ".py",
   "mimetype": "text/x-python",
   "name": "python",
   "nbconvert_exporter": "python",
   "pygments_lexer": "ipython3",
   "version": "3.13.2"
  }
 },
 "nbformat": 4,
 "nbformat_minor": 2
}
