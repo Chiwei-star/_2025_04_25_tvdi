{
 "cells": [
  {
   "cell_type": "markdown",
   "metadata": {},
   "source": [
    "### 呼叫function"
   ]
  },
  {
   "cell_type": "code",
   "execution_count": 16,
   "metadata": {},
   "outputs": [
    {
     "name": "stdout",
     "output_type": "stream",
     "text": [
      "Hello! Python!\n"
     ]
    }
   ],
   "source": [
    "print(\"Hello! Python!\")"
   ]
  },
  {
   "cell_type": "markdown",
   "metadata": {},
   "source": [
    "建立一個自訂的function\n",
    "變數：menu(function的名稱)\n",
    "參數：wine, entree, dessert (三個引數值)\n",
    "引述直呼叫 >> menu('白酒','牛排','蛋糕')"
   ]
  },
  {
   "cell_type": "code",
   "execution_count": 17,
   "metadata": {},
   "outputs": [],
   "source": [
    "def menu(wine, entree, dessert):\n",
    "    print(\"wine\",wine, \"entree\",entree, \"dessert\", dessert)"
   ]
  },
  {
   "cell_type": "code",
   "execution_count": 18,
   "metadata": {},
   "outputs": [
    {
     "name": "stdout",
     "output_type": "stream",
     "text": [
      "wine 白酒 entree 牛排 dessert 蛋糕\n"
     ]
    }
   ],
   "source": [
    "#引述值得呼叫(依照順序)\n",
    "menu('白酒','牛排','蛋糕')\n",
    "#menu('白酒','牛排') 錯誤"
   ]
  },
  {
   "cell_type": "markdown",
   "metadata": {},
   "source": [
    "type hint 型別提示 (可有可無)\n",
    "三種要件：1.做在變數建立時，2.制定參數，3.制定function時有傳輸值。 "
   ]
  },
  {
   "cell_type": "code",
   "execution_count": 19,
   "metadata": {},
   "outputs": [],
   "source": [
    "def menu(wine:str, entree:str, dessert:str) ->dict:\n",
    "    return {\"wine\":wine,\n",
    "            \"entree\":entree,\n",
    "            \"dessert\":dessert}"
   ]
  },
  {
   "cell_type": "code",
   "execution_count": 20,
   "metadata": {},
   "outputs": [
    {
     "name": "stdout",
     "output_type": "stream",
     "text": [
      "{'wine': '白酒', 'entree': '牛排', 'dessert': '蛋糕'}\n"
     ]
    }
   ],
   "source": [
    "pk:dict = menu(\"白酒\",\"牛排\",\"蛋糕\")\n",
    "print(pk)"
   ]
  },
  {
   "cell_type": "markdown",
   "metadata": {},
   "source": [
    "最後一行，有傳出東西，會自動顯示(輸出)。"
   ]
  }
 ],
 "metadata": {
  "kernelspec": {
   "display_name": ".venv",
   "language": "python",
   "name": "python3"
  },
  "language_info": {
   "codemirror_mode": {
    "name": "ipython",
    "version": 3
   },
   "file_extension": ".py",
   "mimetype": "text/x-python",
   "name": "python",
   "nbconvert_exporter": "python",
   "pygments_lexer": "ipython3",
   "version": "3.13.2"
  }
 },
 "nbformat": 4,
 "nbformat_minor": 2
}
