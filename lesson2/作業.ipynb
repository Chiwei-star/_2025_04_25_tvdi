{
 "cells": [
  {
   "cell_type": "markdown",
   "metadata": {},
   "source": [
    "1. **請讀取names.txt**\n",
    "2. **將文字儲存於list內***\n",
    "3. **每次執行可以亂數取出3個姓名**"
   ]
  },
  {
   "cell_type": "code",
   "execution_count": null,
   "metadata": {
    "vscode": {
     "languageId": "plaintext"
    }
   },
   "outputs": [],
   "source": [
    "import random\n",
    "\n",
    "# 1. 讀取 names.txt 並將每行姓名存入 list\n",
    "with open('names.txt', 'r', encoding='utf-8') as file:\n",
    "    names = [line.strip() for line in file if line.strip()]  # 去除空白行與換行符號\n",
    "\n",
    "# 2. 每次執行亂數取出3個姓名（不重複）\n",
    "random_names = random.sample(names, 3)\n",
    "\n",
    "print(random_names)"
   ]
  },
  {
   "cell_type": "markdown",
   "metadata": {},
   "source": [
    "說明\n",
    "open 讀取檔案，使用 utf-8 編碼避免中文亂碼。\n",
    "\n",
    "使用列表生成式將每行姓名讀入 list，並去除空白行。\n",
    "\n",
    "random.sample 從 list 中隨機抽取指定數量（3個）且不重複的元素。\n",
    "\n",
    "你只要確保 names.txt 在同一目錄下，且裡面每行有一個姓名即可。\n",
    "如果你想每次取出的姓名可以重複，則改用 random.choices(names, k=3)。"
   ]
  }
 ],
 "metadata": {
  "language_info": {
   "name": "python"
  }
 },
 "nbformat": 4,
 "nbformat_minor": 2
}
